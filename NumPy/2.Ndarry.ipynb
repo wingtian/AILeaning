{
 "cells": [
  {
   "cell_type": "markdown",
   "metadata": {},
   "source": [
    "NumPy Ndarray 对象\n",
    "NumPy 最重要的一个特点是其 N 维数组对象 ndarray，它是一系列同类型数据的集合，以 0 下标为开始进行集合中元素的索引。\n",
    "\n",
    "ndarray 对象是用于存放同类型元素的多维数组。\n",
    "\n",
    "ndarray 中的每个元素在内存中都有相同存储大小的区域。\n",
    "\n",
    "ndarray 内部由以下内容组成：\n",
    "\n",
    "一个指向数据（内存或内存映射文件中的一块数据）的指针。\n",
    "\n",
    "数据类型或 dtype，描述在数组中的固定大小值的格子。\n",
    "\n",
    "一个表示数组形状（shape）的元组，表示各维度大小的元组。\n",
    "\n",
    "一个跨度元组（stride），其中的整数指的是为了前进到当前维度下一个元素需要\"跨过\"的字节数。\n",
    "\n",
    "\n",
    "跨度可以是负数，这样会使数组在内存中后向移动，切片中 obj[::-1] 或 obj[:,::-1] 就是如此。\n",
    "\n",
    "创建一个 ndarray 只需调用 NumPy 的 array 函数即可：\n",
    "\n",
    "numpy.array(object, dtype = None, copy = True, order = None, subok = False, ndmin = 0)\n",
    "参数说明：\n",
    "\n",
    "名称\t描述\n",
    "object\t数组或嵌套的数列\n",
    "dtype\t数组元素的数据类型，可选\n",
    "copy\t对象是否需要复制，可选\n",
    "order\t创建数组的样式，C为行方向，F为列方向，A为任意方向（默认）\n",
    "subok\t默认返回一个与基类类型一致的数组\n",
    "ndmin\t指定生成数组的最小维度"
   ]
  },
  {
   "cell_type": "code",
   "execution_count": null,
   "metadata": {},
   "outputs": [],
   "source": []
  }
 ],
 "metadata": {
  "interpreter": {
   "hash": "896eb192d4c498213948bfed865aef5a2f6b7378140264cfd468b3017238b7be"
  },
  "kernelspec": {
   "display_name": "Python 3.8.6 64-bit",
   "name": "python3"
  },
  "language_info": {
   "name": "python",
   "version": "3.8.6"
  },
  "orig_nbformat": 4
 },
 "nbformat": 4,
 "nbformat_minor": 2
}
